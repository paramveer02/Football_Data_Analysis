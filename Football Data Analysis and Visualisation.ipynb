{
 "cells": [
  {
   "cell_type": "code",
   "execution_count": null,
   "id": "5da30d8b",
   "metadata": {},
   "outputs": [],
   "source": [
    "# Data Analysis\n",
    "import pandas as pd\n",
    "import numpy as np\n",
    "\n",
    "# Data Visualization\n",
    "import matplotlib.pyplot as plt\n",
    "import seaborn as sns\n",
    "import plotly.graph_objs as go\n",
    "import plotly.express as px\n",
    "\n",
    "sns.set_style('darkgrid')\n",
    "\n",
    "import warnings\n",
    "warnings.filterwarnings(\"ignore\")"
   ]
  },
  {
   "cell_type": "code",
   "execution_count": null,
   "id": "363b9f65",
   "metadata": {},
   "outputs": [],
   "source": [
    "pd.set_option('display.max_columns', None)\n",
    "df = pd.read_csv('football.csv', index_col=0)"
   ]
  },
  {
   "cell_type": "code",
   "execution_count": null,
   "id": "c37643ea",
   "metadata": {},
   "outputs": [],
   "source": [
    "df.shape"
   ]
  },
  {
   "cell_type": "code",
   "execution_count": null,
   "id": "8b558e7c",
   "metadata": {},
   "outputs": [],
   "source": [
    "df.info()"
   ]
  },
  {
   "cell_type": "markdown",
   "id": "a365b114",
   "metadata": {},
   "source": [
    "## Dropping columns from Analysis"
   ]
  },
  {
   "cell_type": "code",
   "execution_count": null,
   "id": "31f54004",
   "metadata": {},
   "outputs": [],
   "source": [
    "df.drop(columns=['ID','Photo', 'Flag', 'Club Logo', 'Special', 'Jersey Number', 'Real Face', 'Loaned From'],axis=1 ,inplace=True)"
   ]
  },
  {
   "cell_type": "markdown",
   "id": "223a3d54",
   "metadata": {},
   "source": [
    "## Data Cleaning"
   ]
  },
  {
   "cell_type": "code",
   "execution_count": null,
   "id": "7f824695",
   "metadata": {},
   "outputs": [],
   "source": [
    "# First, lets clean data that is of type: Float or Int by filling in null values with either mean or median\n",
    "\n",
    "df['International Reputation'].fillna(df['International Reputation'].mean(), inplace=True)\n",
    "df['Weak Foot'].fillna(df['Weak Foot'].mean(), inplace=True)\n",
    "df['Skill Moves'].fillna(df['Skill Moves'].mean(), inplace=True)\n",
    "df['Weak Foot'].fillna(df['Weak Foot'].mean(), inplace=True)\n",
    "df['Crossing'].fillna(df['Crossing'].mean(), inplace=True)\n",
    "df['Finishing'].fillna(df['Finishing'].mean(), inplace=True)\n",
    "df['Crossing'].fillna(df['Crossing'].mean(), inplace=True)\n",
    "df['HeadingAccuracy'].fillna(df['HeadingAccuracy'].mean(), inplace=True)\n",
    "df['ShortPassing'].fillna(df['ShortPassing'].mean(), inplace=True)\n",
    "df['Volleys'].fillna(df['Volleys'].mean(), inplace=True)\n",
    "df['Dribbling'].fillna(df['Dribbling'].mean(), inplace=True)\n",
    "df['Curve'].fillna(df['Curve'].mean(), inplace=True)\n",
    "df['FKAccuracy'].fillna(df['FKAccuracy'].mean(), inplace=True)\n",
    "df['LongPassing'].fillna(df['LongPassing'].mean(), inplace=True)\n",
    "df['BallControl'].fillna(df['BallControl'].mean(), inplace=True)\n",
    "df['Acceleration'].fillna(df['Acceleration'].mean(), inplace=True)\n",
    "df['SprintSpeed'].fillna(df['SprintSpeed'].mean(), inplace=True)\n",
    "df['Agility'].fillna(df['Agility'].mean(), inplace=True)\n",
    "df['Reactions'].fillna(df['Reactions'].mean(), inplace=True)\n",
    "df['Balance'].fillna(df['Balance'].mean(), inplace=True)\n",
    "df['ShotPower'].fillna(df['ShotPower'].mean(), inplace=True)\n",
    "df['Jumping'].fillna(df['Jumping'].mean(), inplace=True)\n",
    "df['Stamina'].fillna(df['Stamina'].mean(), inplace=True)\n",
    "df['Strength'].fillna(df['Strength'].mean(), inplace=True)\n",
    "df['LongShots'].fillna(df['LongShots'].mean(), inplace=True)\n",
    "df['Aggression'].fillna(df['Aggression'].mean(), inplace=True)\n",
    "df['Interceptions'].fillna(df['Interceptions'].mean(), inplace=True)\n",
    "df['Positioning'].fillna(df['Positioning'].mean(), inplace=True)\n",
    "df['Vision'].fillna(df['Vision'].mean(), inplace=True)\n",
    "df['Penalties'].fillna(df['Penalties'].mean(), inplace=True)\n",
    "df['Composure'].fillna(df['Composure'].mean(), inplace=True)\n",
    "df['Marking'].fillna(df['Marking'].mean(), inplace=True)\n",
    "df['StandingTackle'].fillna(df['StandingTackle'].mean(), inplace=True)\n",
    "df['SlidingTackle'].fillna(df['SlidingTackle'].mean(), inplace=True)\n",
    "df['GKDiving'].fillna(df['GKDiving'].mean(), inplace=True)\n",
    "df['GKHandling'].fillna(df['GKHandling'].mean(), inplace=True)\n",
    "df['GKKicking'].fillna(df['GKKicking'].mean(), inplace=True)\n",
    "df['GKPositioning'].fillna(df['GKPositioning'].mean(), inplace=True)\n",
    "df['GKReflexes'].fillna(df['GKReflexes'].mean(), inplace=True)"
   ]
  },
  {
   "cell_type": "code",
   "execution_count": null,
   "id": "773b399d",
   "metadata": {},
   "outputs": [],
   "source": [
    "df.rename(columns={'Value':'MarketValue'}, inplace=True)"
   ]
  },
  {
   "cell_type": "code",
   "execution_count": null,
   "id": "137bd3e4",
   "metadata": {},
   "outputs": [],
   "source": [
    "# convert value, wage and release clause into float and replace 'M', 'K', '€' strings\n",
    "# 1million = 10,00,000\n",
    "\n",
    "def convert_marketvalue_wage_release_clause(Value):\n",
    "    if isinstance(Value, str):\n",
    "        output = Value.replace('€', '')\n",
    "        if 'M' in output:\n",
    "            output = float(output.replace('M', '')) * 1000000\n",
    "        elif 'K' in output:\n",
    "            output = float(output.replace('K', '')) * 1000\n",
    "        return float(output)\n",
    "\n",
    "df['MarketValue'] = df['MarketValue'].apply(lambda x: convert_marketvalue_wage_release_clause(x))\n",
    "df['Wage'] = df['Wage'].apply(lambda x: convert_marketvalue_wage_release_clause(x))\n",
    "df['Release Clause'] = df['Release Clause'].apply(lambda x: convert_marketvalue_wage_release_clause(x))\n",
    "\n",
    "# The Release Clause column has null values which we can now replace with mean or median values,\n",
    "# since we have converted the respective data type from object to float\n",
    "\n",
    "df['Release Clause'].fillna(df['Release Clause'].mean(), inplace=True)"
   ]
  },
  {
   "cell_type": "code",
   "execution_count": null,
   "id": "0fc529f9",
   "metadata": {},
   "outputs": [],
   "source": [
    "# Now, lets try to fill null values for Categorical columns: Club and Position\n",
    "df['Club'].fillna('Unknown Club', inplace=True)\n",
    "df['Position'].fillna('Unknown Position', inplace=True)"
   ]
  },
  {
   "cell_type": "code",
   "execution_count": null,
   "id": "0bfa9b19",
   "metadata": {},
   "outputs": [],
   "source": [
    "# Clean the 'Joined' column to contain value of only the year\n",
    "def clean_joined(Joined):\n",
    "    var=[]\n",
    "    if isinstance(Joined, str):\n",
    "        var = Joined.split(\",\") \n",
    "        var = var[-1]\n",
    "    return (var)\n",
    "\n",
    "df['Joined'] = df['Joined'].apply((lambda x: clean_joined(x))).astype('str')"
   ]
  },
  {
   "cell_type": "code",
   "execution_count": null,
   "id": "4c9cf435",
   "metadata": {},
   "outputs": [],
   "source": [
    "# Normalize player's height to cm\n",
    "\n",
    "def normalize_height(x):\n",
    "    l = []\n",
    "    s = []\n",
    "    if isinstance(x,str):\n",
    "        l = x.split(\"'\")\n",
    "        i = int(l[-2])\n",
    "        j = int(l[-1])\n",
    "        s = ((i * 30.48) + (j * 2.54))\n",
    "        return (s)\n",
    "    \n",
    "df['Height'] = df['Height'].apply(lambda x: normalize_height(x))\n",
    "df['Height'].fillna(df['Height'].mean(), inplace=True)"
   ]
  },
  {
   "cell_type": "code",
   "execution_count": null,
   "id": "e71462b5",
   "metadata": {},
   "outputs": [],
   "source": [
    "# Normalize the player's weight\n",
    "def normalize_weight(Weight):\n",
    "    if isinstance(Weight, str):\n",
    "        output = float(Weight.replace('lbs',''))\n",
    "        output = float(output/2.205)\n",
    "        return output\n",
    "    \n",
    "df['Weight'] = df['Weight'].apply(lambda x: normalize_weight(x))\n",
    "df['Weight'].fillna(df['Weight'].mean(), inplace = True)"
   ]
  },
  {
   "cell_type": "code",
   "execution_count": null,
   "id": "8d3d0149",
   "metadata": {},
   "outputs": [],
   "source": [
    "# Contract valid until column\n",
    "\n",
    "df['Contract Valid Until'] = pd.to_datetime(df['Contract Valid Until'])\n",
    "df['Contract Valid Until'].fillna('Not Available', inplace=True)"
   ]
  },
  {
   "cell_type": "code",
   "execution_count": null,
   "id": "e31b4794",
   "metadata": {},
   "outputs": [],
   "source": [
    "df['Work Rate'].value_counts()"
   ]
  },
  {
   "cell_type": "code",
   "execution_count": null,
   "id": "cbc3322c",
   "metadata": {},
   "outputs": [],
   "source": [
    "# Replace null values for Work Rate column\n",
    "\n",
    "df['Work Rate'].fillna('Medium/ Medium', inplace=True)"
   ]
  },
  {
   "cell_type": "code",
   "execution_count": null,
   "id": "ba7a94ab",
   "metadata": {},
   "outputs": [],
   "source": [
    "df['Preferred Foot'].value_counts()"
   ]
  },
  {
   "cell_type": "code",
   "execution_count": null,
   "id": "9d68662c",
   "metadata": {},
   "outputs": [],
   "source": [
    "# Replace null values for Preferred Foot column\n",
    "df['Preferred Foot'].fillna('Right', inplace=True)"
   ]
  },
  {
   "cell_type": "code",
   "execution_count": null,
   "id": "4350f9c6",
   "metadata": {},
   "outputs": [],
   "source": [
    "# Body Type Column\n",
    "df['Body Type'].value_counts()"
   ]
  },
  {
   "cell_type": "code",
   "execution_count": null,
   "id": "bcc7cc5d",
   "metadata": {},
   "outputs": [],
   "source": [
    "df['Body Type'].replace({'Messi':'Lean', 'C. Ronaldo':'Normal', 'Neymar':'Lean','Courtois':'Lean', 'PLAYER_BODY_TYPE_25':'Normal', 'Shaqiri':'Stocky', 'Akinfenwa':'Stocky'}, inplace=True)"
   ]
  },
  {
   "cell_type": "code",
   "execution_count": null,
   "id": "ba7b0ee3",
   "metadata": {},
   "outputs": [],
   "source": [
    "# Arsenal players from Germany and their international reputation\n",
    "\n",
    "filt = (df['Nationality'] == 'Germany') & (df['Club'] == 'Arsenal')\n",
    "df.loc[filt][['Name','Age','Potential']]"
   ]
  },
  {
   "cell_type": "code",
   "execution_count": null,
   "id": "847325da",
   "metadata": {},
   "outputs": [],
   "source": [
    "grp = df.groupby(df['Club'])\n",
    "grp[['Name','Age','MarketValue']].value_counts()[0:10]"
   ]
  },
  {
   "cell_type": "code",
   "execution_count": null,
   "id": "a2225cfa",
   "metadata": {},
   "outputs": [],
   "source": [
    "# Which foot do German players preffer?\n",
    "\n",
    "filt = df['Nationality'] == 'Germany'\n",
    "df[filt]['Preferred Foot'].str.contains('Right').sum()"
   ]
  },
  {
   "cell_type": "code",
   "execution_count": null,
   "id": "86ea02a8",
   "metadata": {},
   "outputs": [],
   "source": [
    "forward = ['LS' ,'ST' ,'RS' ,'LW' ,'LF' ,'CF' ,'RF' ,'RW']\n",
    "mid = ['LAM', 'CAM', 'RAM', 'LM', 'LCM', 'CM', 'RCM', 'RM']\n",
    "defence = ['LWB', 'LDM', 'CDM', 'RDM', 'RWB', 'LB', 'LCB', 'CB', 'RCB', 'RB']\n",
    "\n",
    "def convert_position(x):\n",
    "    if isinstance(x,str):\n",
    "        if x in forward:\n",
    "            return 'forward'\n",
    "        elif x in mid:\n",
    "            return 'midfielder'\n",
    "        elif x == 'GK':\n",
    "            return 'goalkeeper'\n",
    "        else:\n",
    "            return 'defender'\n",
    "\n",
    "df['Position'] = df['Position'].apply(lambda x: convert_position(x))\n",
    "\n",
    "# Filter to read players of Germany along with their converted Position and Club\n",
    "\n",
    "filt = df['Nationality']=='Germany'\n",
    "df[filt][['Name','Club' ,'Position']]"
   ]
  },
  {
   "cell_type": "markdown",
   "id": "cc87adc1",
   "metadata": {},
   "source": [
    "## Data Visualisation"
   ]
  },
  {
   "cell_type": "markdown",
   "id": "67099700",
   "metadata": {},
   "source": [
    "### Number of Players per Position"
   ]
  },
  {
   "cell_type": "code",
   "execution_count": null,
   "id": "3be9588a",
   "metadata": {},
   "outputs": [],
   "source": [
    "plt.figure(figsize = (10, 6))\n",
    "sns.countplot(x='Position', data = df)\n",
    "\n",
    "plt.xlabel(xlabel = 'Football Positions', fontsize = 16)\n",
    "plt.ylabel(ylabel = 'Number of Players', fontsize = 16)\n",
    "\n",
    "plt.title(label = 'Number of Players per Position', fontsize = 20)\n",
    "\n",
    "plt.show()\n",
    "\n",
    "plt.savefig('PlayerPosition.png', dpi=100.0)"
   ]
  },
  {
   "cell_type": "code",
   "execution_count": null,
   "id": "b58efa98",
   "metadata": {},
   "outputs": [],
   "source": [
    "# Top players per position - forward \n",
    "\n",
    "filt = df['Position']=='forward'\n",
    "df[filt][['Name','Club', 'Nationality', 'Overall']][0:10].style.background_gradient('Spectral')"
   ]
  },
  {
   "cell_type": "code",
   "execution_count": null,
   "id": "6db20c5d",
   "metadata": {},
   "outputs": [],
   "source": [
    "# Top players per position - midfield \n",
    "\n",
    "filt = df['Position']=='midfielder'\n",
    "df[filt][['Name','Club', 'Nationality', 'Overall']][0:10].style.background_gradient('cividis')"
   ]
  },
  {
   "cell_type": "code",
   "execution_count": null,
   "id": "2fda7e3d",
   "metadata": {},
   "outputs": [],
   "source": [
    "# Top players per position - defence\n",
    "\n",
    "df[df['Position']=='defender'][['Name' ,'Club' ,'Nationality' ,'Overall']][0:10].style.background_gradient('Greens')"
   ]
  },
  {
   "cell_type": "markdown",
   "id": "dd009e42",
   "metadata": {},
   "source": [
    "### Weight measurement of different players"
   ]
  },
  {
   "cell_type": "code",
   "execution_count": null,
   "id": "065aa9ec",
   "metadata": {},
   "outputs": [],
   "source": [
    "plt.figure(figsize=(20,6))\n",
    "\n",
    "plt.style.use('tableau-colorblind10')\n",
    "sns.distplot(df['Weight'], color = 'red')\n",
    "\n",
    "plt.title('Different Weight of Players', fontsize = 20)\n",
    "plt.xlabel('Weight range of Players', fontsize = 16)\n",
    "plt.ylabel('Number of Players', fontsize = 16)\n",
    "\n",
    "plt.savefig('Players_weight.png', dpi = 100)\n",
    "plt.show()"
   ]
  },
  {
   "cell_type": "markdown",
   "id": "b805ebd1",
   "metadata": {},
   "source": [
    "### Height measurement of different players"
   ]
  },
  {
   "cell_type": "code",
   "execution_count": null,
   "id": "64c7c6d9",
   "metadata": {},
   "outputs": [],
   "source": [
    "plt.figure(figsize=(26,12))\n",
    "plt.style.use('tableau-colorblind10')\n",
    "\n",
    "sns.countplot(df['Height'], color = 'blue', palette='twilight')\n",
    "\n",
    "plt.title('Different Height of Players', fontsize = 20)\n",
    "plt.xlabel('Height range of Players', fontsize = 16)\n",
    "plt.ylabel('Number of Players', fontsize = 16)\n",
    "\n",
    "plt.savefig('Players_height.png', dpi=80)\n",
    "plt.show()"
   ]
  },
  {
   "cell_type": "markdown",
   "id": "a822e6ae",
   "metadata": {},
   "source": [
    "### Top 10 Clubs with highest average wages"
   ]
  },
  {
   "cell_type": "code",
   "execution_count": null,
   "id": "fd645b92",
   "metadata": {},
   "outputs": [],
   "source": [
    "wage_info = df[['Name', 'Club', 'Wage']]\n",
    "\n",
    "plt.figure(figsize=(16,6))\n",
    "wage_info.groupby('Club')['Wage'].mean().sort_values(ascending=False).head(10).plot(kind = 'bar')\n",
    "\n",
    "plt.title('Top 10 Clubs with highest average wages', fontsize = 20)\n",
    "plt.xlabel('Clubs', fontsize = 16)\n",
    "plt.ylabel('Wages', fontsize = 16)\n",
    "plt.xticks(rotation=50)\n",
    "\n",
    "plt.savefig('HighestWages.png', dpi=80)\n",
    "plt.show()"
   ]
  },
  {
   "cell_type": "markdown",
   "id": "acafcfd9",
   "metadata": {},
   "source": [
    "### Top 10 clubs with highest overall ratings"
   ]
  },
  {
   "cell_type": "code",
   "execution_count": null,
   "id": "f8c59087",
   "metadata": {},
   "outputs": [],
   "source": [
    "overall_list = df[['Name', 'Club', 'Overall']]\n",
    "\n",
    "plt.figure(figsize=(16,6))\n",
    "overall_list.groupby('Club')['Overall'].mean().sort_values(ascending = False).head(10).plot(kind = 'bar', color='Red')\n",
    "\n",
    "plt.title('Top 10 Clubs with highest Overall Ranking', fontsize = 20)\n",
    "plt.xlabel('Clubs', fontsize = 16)\n",
    "plt.ylabel('Overall Rating', fontsize = 16)\n",
    "plt.xticks(rotation = 50)\n",
    "\n",
    "plt.savefig('HighestRanking.png', dpi=80)\n",
    "plt.show()"
   ]
  },
  {
   "cell_type": "markdown",
   "id": "5eac2406",
   "metadata": {},
   "source": [
    "### Top 10 Clubs with highest Market Value"
   ]
  },
  {
   "cell_type": "code",
   "execution_count": null,
   "id": "edbcec35",
   "metadata": {},
   "outputs": [],
   "source": [
    "value_info = df[['Club','MarketValue', 'Release Clause']]\n",
    "\n",
    "plt.figure(figsize=(18,8))\n",
    "value_info.groupby('Club')['MarketValue'].mean().sort_values(ascending = False).head(10).plot(kind = 'bar', color = 'Green')\n",
    "\n",
    "plt.title('Top 10 Clubs with highest Market Value', fontsize = 20)\n",
    "plt.xlabel('Clubs', fontsize = 16)\n",
    "plt.ylabel('Market Value', fontsize = 16)\n",
    "plt.xticks(rotation = 50)\n",
    "\n",
    "plt.savefig('HighestMarketValue.png', dpi=80)\n",
    "plt.show()"
   ]
  },
  {
   "cell_type": "markdown",
   "id": "931b06e8",
   "metadata": {},
   "source": [
    "### Weight vs Dribbling"
   ]
  },
  {
   "cell_type": "code",
   "execution_count": null,
   "id": "ea5c34ad",
   "metadata": {},
   "outputs": [],
   "source": [
    "plt.figure(figsize=(20,10))\n",
    "\n",
    "plt.xlabel('Weight',  fontsize = 16)\n",
    "plt.ylabel('Dribbling', fontsize = 16)\n",
    "plt.title(\"Weight Impact on Player's Dribbling\", fontsize = 20)\n",
    "plt.xticks(rotation = 70)\n",
    "\n",
    "sns.barplot(x='Weight', y='Dribbling', data = df.sort_values('Weight').head(1000),palette='Reds')\n",
    "plt.savefig('WeightVsDribbling.png', dpi = 100)"
   ]
  },
  {
   "cell_type": "markdown",
   "id": "3b225eb6",
   "metadata": {},
   "source": [
    "### Height vs Heading Accuracy"
   ]
  },
  {
   "cell_type": "code",
   "execution_count": null,
   "id": "452ad389",
   "metadata": {},
   "outputs": [],
   "source": [
    "plt.figure(figsize=(18,8))\n",
    "\n",
    "plt.xlabel('Height', fontsize = 16)\n",
    "plt.ylabel('Heading Accuracy', fontsize = 16)\n",
    "plt.title('Impact of Height on Heading accuracy', fontsize = 20)\n",
    "plt.xticks(rotation = 70)\n",
    "\n",
    "sns.barplot(x='Height', y='HeadingAccuracy', data=df.sort_values('Height').head(2000),palette='vlag')\n",
    "plt.savefig('HeightVsHeading.png', dip = 100.0)"
   ]
  },
  {
   "cell_type": "code",
   "execution_count": null,
   "id": "258b6ee2",
   "metadata": {},
   "outputs": [],
   "source": [
    "TODO: ('Weight vs Stamina', 'Height vs Dribbling')"
   ]
  },
  {
   "cell_type": "code",
   "execution_count": null,
   "id": "23d73400",
   "metadata": {},
   "outputs": [],
   "source": [
    "plt.figure(figsize=(16,8))\n",
    "sns.distplot(df['Age'])\n",
    "\n",
    "plt.xlabel('Age', fontsize = 16)\n",
    "plt.title('Age Distribution of Players', fontsize = 16)"
   ]
  },
  {
   "cell_type": "markdown",
   "id": "e868de36",
   "metadata": {},
   "source": [
    "### Age Distribution per Player Nationalities"
   ]
  },
  {
   "cell_type": "code",
   "execution_count": null,
   "id": "bb88bfb9",
   "metadata": {},
   "outputs": [],
   "source": [
    "countries_names = ('France', 'Brazil', 'Germany', 'Spain', 'Argentina', 'Portugal', 'England', 'Italy')\n",
    "countries = df.loc[df['Nationality'].isin(countries_names) & df['Age']]\n",
    "fig, ax = plt.subplots()\n",
    "fig.set_size_inches(20, 10)\n",
    "ax = sns.boxenplot(x=\"Nationality\", y=\"Age\", data=countries)\n",
    "ax.set_title(label='Age distribution in countries', fontsize=25)\n",
    "plt.xlabel('Countries', fontsize=20)\n",
    "plt.ylabel('Age', fontsize=20)\n",
    "plt.grid()\n",
    "\n",
    "# Analysis show Argentina has wide range of age distribution.\n",
    "# Germany and England tend to have a younger team."
   ]
  },
  {
   "cell_type": "code",
   "execution_count": null,
   "id": "6fde61ff",
   "metadata": {},
   "outputs": [],
   "source": [
    "# Distribution of player's Overall score\n",
    "\n",
    "sns.set(style = \"dark\", palette = \"deep\", color_codes = True)\n",
    "x = df.Overall\n",
    "plt.figure(figsize = (12,8))\n",
    "plt.style.use('ggplot')\n",
    "\n",
    "ax = sns.distplot(x,color = 'b')\n",
    "ax.set_xlabel(xlabel = \"Player\\'s Scores\", fontsize = 16)\n",
    "ax.set_ylabel(ylabel = 'Number of players', fontsize = 16)\n",
    "ax.set_title(label = 'Histogram of players Overall Scores', fontsize = 20)\n",
    "plt.show()"
   ]
  },
  {
   "cell_type": "markdown",
   "id": "2ddf40a0",
   "metadata": {},
   "source": [
    "### Top 10 left footed footballers"
   ]
  },
  {
   "cell_type": "code",
   "execution_count": null,
   "id": "7c5b035e",
   "metadata": {},
   "outputs": [],
   "source": [
    "df[df['Preferred Foot'] == 'Left'][['Name', 'Age', 'Club', 'Nationality']].head(10).style.background_gradient('plasma')"
   ]
  },
  {
   "cell_type": "markdown",
   "id": "347e4295",
   "metadata": {},
   "source": [
    "### Top 10 right footed footballers"
   ]
  },
  {
   "cell_type": "code",
   "execution_count": null,
   "id": "58125c2d",
   "metadata": {},
   "outputs": [],
   "source": [
    "df[df['Preferred Foot'] == 'Right'][['Name', 'Age', 'Club', 'Nationality']].head(10).style.background_gradient('winter_r')"
   ]
  },
  {
   "cell_type": "markdown",
   "id": "7c5368be",
   "metadata": {},
   "source": [
    "### Players Head to Head Comparison"
   ]
  },
  {
   "cell_type": "code",
   "execution_count": null,
   "id": "206577d5",
   "metadata": {},
   "outputs": [],
   "source": [
    "skills = ['Overall', 'Potential', 'Crossing',\n",
    "   'Finishing', 'HeadingAccuracy', 'ShortPassing', 'Volleys', 'Dribbling',\n",
    "   'Curve', 'FKAccuracy', 'LongPassing', 'BallControl', 'Acceleration',\n",
    "   'Reactions', 'Balance', 'ShotPower',\n",
    "   'Jumping', 'Stamina', 'Strength', 'LongShots', 'Aggression',\n",
    "   'Interceptions', 'Positioning', 'Vision', 'Penalties',\n",
    "   'Marking', 'StandingTackle', 'SlidingTackle']"
   ]
  },
  {
   "cell_type": "code",
   "execution_count": null,
   "id": "7251e10c",
   "metadata": {},
   "outputs": [],
   "source": [
    "player1=input()\n",
    "player2=input()\n"
   ]
  },
  {
   "cell_type": "code",
   "execution_count": null,
   "id": "d7b1c23d",
   "metadata": {},
   "outputs": [],
   "source": [
    "p1 = df.loc[df['Name'] == player1]\n",
    "p1 = pd.DataFrame(p1, columns = skills)\n",
    "p2 = df.loc[df['Name'] == player2]\n",
    "p2 = pd.DataFrame(p2, columns = skills)\n",
    "\n",
    "plt.figure(figsize=(16,7))\n",
    "\n",
    "sns.pointplot(data=p1,color='red')\n",
    "sns.pointplot(data=p2, color='black')\n",
    "\n",
    "plt.xticks(rotation=70)\n",
    "plt.xlabel('Skills', fontsize=20)\n",
    "plt.ylabel('Skill value', fontsize=20)\n",
    "plt.title(player1+' vs '+player2, fontsize = 25)\n",
    "\n",
    "plt.show();"
   ]
  },
  {
   "cell_type": "code",
   "execution_count": null,
   "id": "5e21d144",
   "metadata": {},
   "outputs": [],
   "source": [
    "type(p1)"
   ]
  },
  {
   "cell_type": "code",
   "execution_count": null,
   "id": "fce72e18",
   "metadata": {},
   "outputs": [],
   "source": [
    "p2"
   ]
  },
  {
   "cell_type": "code",
   "execution_count": null,
   "id": "afd6514a",
   "metadata": {},
   "outputs": [],
   "source": [
    "p1"
   ]
  },
  {
   "cell_type": "code",
   "execution_count": null,
   "id": "73e4d36d",
   "metadata": {},
   "outputs": [],
   "source": []
  }
 ],
 "metadata": {
  "kernelspec": {
   "display_name": "Python 3 (ipykernel)",
   "language": "python",
   "name": "python3"
  },
  "language_info": {
   "codemirror_mode": {
    "name": "ipython",
    "version": 3
   },
   "file_extension": ".py",
   "mimetype": "text/x-python",
   "name": "python",
   "nbconvert_exporter": "python",
   "pygments_lexer": "ipython3",
   "version": "3.9.10"
  }
 },
 "nbformat": 4,
 "nbformat_minor": 5
}
